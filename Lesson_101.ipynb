{
  "cells": [
    {
      "cell_type": "markdown",
      "metadata": {
        "colab_type": "text",
        "id": "view-in-github"
      },
      "source": [
        "<a href=\"https://colab.research.google.com/github/dengathitu/DataScience/blob/main/Lesson_101.ipynb\" target=\"_parent\"><img src=\"https://colab.research.google.com/assets/colab-badge.svg\" alt=\"Open In Colab\"/></a>"
      ]
    },
    {
      "cell_type": "code",
      "execution_count": null,
      "metadata": {
        "execution": {
          "iopub.execute_input": "2025-02-21T00:27:54.581792Z",
          "iopub.status.busy": "2025-02-21T00:27:54.581488Z",
          "iopub.status.idle": "2025-02-21T00:28:09.283734Z",
          "shell.execute_reply": "2025-02-21T00:28:09.282637Z",
          "shell.execute_reply.started": "2025-02-21T00:27:54.581768Z"
        },
        "id": "1z8Q0_yeF1He",
        "trusted": true
      },
      "outputs": [],
      "source": [
        "#Ask user for their name and print a welcome message\n",
        "x = input(\"Enter Your Name:\")\n",
        "print(\"Welcome\", x, \"to my programme!\")"
      ]
    },
    {
      "cell_type": "code",
      "execution_count": null,
      "metadata": {
        "execution": {
          "iopub.execute_input": "2025-02-21T00:33:20.469505Z",
          "iopub.status.busy": "2025-02-21T00:33:20.46917Z",
          "iopub.status.idle": "2025-02-21T00:33:41.606657Z",
          "shell.execute_reply": "2025-02-21T00:33:41.60578Z",
          "shell.execute_reply.started": "2025-02-21T00:33:20.469479Z"
        },
        "id": "nQ-Hbc5cF1Hg",
        "trusted": true
      },
      "outputs": [],
      "source": [
        "# Ask users for both names and reverse the order of the names with space in between\n",
        "FirstName = input(\"Enter Your First Name:\")\n",
        "LastName = input(\"Enter Your Last Name:\")\n",
        "print(LastName,\"  \", FirstName)"
      ]
    },
    {
      "cell_type": "code",
      "execution_count": null,
      "metadata": {
        "execution": {
          "iopub.execute_input": "2025-02-21T00:38:51.685582Z",
          "iopub.status.busy": "2025-02-21T00:38:51.685234Z",
          "iopub.status.idle": "2025-02-21T00:38:51.691218Z",
          "shell.execute_reply": "2025-02-21T00:38:51.689612Z",
          "shell.execute_reply.started": "2025-02-21T00:38:51.685555Z"
        },
        "id": "rDNFwQU8F1Hh",
        "trusted": true
      },
      "outputs": [],
      "source": [
        "# A program to counts the number of elements found in a list\n",
        "x = [33, 4, 55, 6, 3, 78, 9, 6, 5]\n",
        "print(len(x),\"elements found in the list\")"
      ]
    },
    {
      "cell_type": "code",
      "execution_count": null,
      "metadata": {
        "execution": {
          "iopub.execute_input": "2025-02-21T00:43:37.503713Z",
          "iopub.status.busy": "2025-02-21T00:43:37.503387Z",
          "iopub.status.idle": "2025-02-21T00:43:37.511926Z",
          "shell.execute_reply": "2025-02-21T00:43:37.510994Z",
          "shell.execute_reply.started": "2025-02-21T00:43:37.503672Z"
        },
        "id": "-_rHBNGTF1Hh",
        "trusted": true
      },
      "outputs": [],
      "source": [
        "#Type Casting\n",
        "x = 88\n",
        "g = 22\n",
        "print(x + g)\n",
        "type(x)\n",
        "type(g)"
      ]
    },
    {
      "cell_type": "code",
      "execution_count": null,
      "metadata": {
        "execution": {
          "iopub.execute_input": "2025-02-21T01:01:01.940597Z",
          "iopub.status.busy": "2025-02-21T01:01:01.940274Z",
          "iopub.status.idle": "2025-02-21T01:01:01.948353Z",
          "shell.execute_reply": "2025-02-21T01:01:01.947153Z",
          "shell.execute_reply.started": "2025-02-21T01:01:01.940571Z"
        },
        "id": "rL6zMzGUF1Hi",
        "trusted": true
      },
      "outputs": [],
      "source": [
        "x= 88\n",
        "g = 22\n",
        "print(str(x)+str(g))\n",
        "z = str(x)\n",
        "y = str(g)\n",
        "type(z)\n",
        "type(y)\n",
        "type(x)"
      ]
    },
    {
      "cell_type": "code",
      "execution_count": 1,
      "metadata": {
        "id": "CNhYUfODF1Hi",
        "trusted": true
      },
      "outputs": [
        {
          "name": "stdout",
          "output_type": "stream",
          "text": [
            "{'Name': 'Gillian', 'Age': 22, 'Location': 'Mombasa'}\n"
          ]
        }
      ],
      "source": [
        "G = {\"Name\":\"Gillian\",\"Age\": 22, \"Location\": \"Mombasa\"}\n",
        "print(G)"
      ]
    },
    {
      "cell_type": "code",
      "execution_count": null,
      "metadata": {},
      "outputs": [],
      "source": []
    }
  ],
  "metadata": {
    "colab": {
      "include_colab_link": true,
      "name": "Lesson 101.ipynb",
      "provenance": []
    },
    "kaggle": {
      "accelerator": "none",
      "dataSources": [],
      "dockerImageVersionId": 30918,
      "isGpuEnabled": false,
      "isInternetEnabled": true,
      "language": "python",
      "sourceType": "notebook"
    },
    "kernelspec": {
      "display_name": "Python 3",
      "language": "python",
      "name": "python3"
    },
    "language_info": {
      "codemirror_mode": {
        "name": "ipython",
        "version": 3
      },
      "file_extension": ".py",
      "mimetype": "text/x-python",
      "name": "python",
      "nbconvert_exporter": "python",
      "pygments_lexer": "ipython3",
      "version": "3.12.1"
    }
  },
  "nbformat": 4,
  "nbformat_minor": 0
}
