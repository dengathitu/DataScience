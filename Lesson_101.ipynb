{
  "metadata": {
    "kernelspec": {
      "language": "python",
      "display_name": "Python 3",
      "name": "python3"
    },
    "language_info": {
      "name": "python",
      "version": "3.10.12",
      "mimetype": "text/x-python",
      "codemirror_mode": {
        "name": "ipython",
        "version": 3
      },
      "pygments_lexer": "ipython3",
      "nbconvert_exporter": "python",
      "file_extension": ".py"
    },
    "kaggle": {
      "accelerator": "none",
      "dataSources": [],
      "dockerImageVersionId": 30918,
      "isInternetEnabled": true,
      "language": "python",
      "sourceType": "notebook",
      "isGpuEnabled": false
    },
    "colab": {
      "name": "Lesson 101.ipynb",
      "provenance": [],
      "include_colab_link": true
    }
  },
  "nbformat_minor": 0,
  "nbformat": 4,
  "cells": [
    {
      "cell_type": "markdown",
      "metadata": {
        "id": "view-in-github",
        "colab_type": "text"
      },
      "source": [
        "<a href=\"https://colab.research.google.com/github/dengathitu/DataScience/blob/main/Lesson_101.ipynb\" target=\"_parent\"><img src=\"https://colab.research.google.com/assets/colab-badge.svg\" alt=\"Open In Colab\"/></a>"
      ]
    },
    {
      "cell_type": "code",
      "source": [
        "#Ask user for their name and print a welcome message\n",
        "x = input(\"Enter Your Name:\")\n",
        "print(\"Welcome\", x, \"to my programme!\")"
      ],
      "metadata": {
        "trusted": true,
        "execution": {
          "iopub.status.busy": "2025-02-21T00:27:54.581488Z",
          "iopub.execute_input": "2025-02-21T00:27:54.581792Z",
          "iopub.status.idle": "2025-02-21T00:28:09.283734Z",
          "shell.execute_reply.started": "2025-02-21T00:27:54.581768Z",
          "shell.execute_reply": "2025-02-21T00:28:09.282637Z"
        },
        "id": "1z8Q0_yeF1He"
      },
      "outputs": [],
      "execution_count": null
    },
    {
      "cell_type": "code",
      "source": [
        "# Ask users for both names and reverse the order of the names with space in between\n",
        "FirstName = input(\"Enter Your First Name:\")\n",
        "LastName = input(\"Enter Your Last Name:\")\n",
        "print(LastName,\"  \", FirstName)"
      ],
      "metadata": {
        "trusted": true,
        "execution": {
          "iopub.status.busy": "2025-02-21T00:33:20.46917Z",
          "iopub.execute_input": "2025-02-21T00:33:20.469505Z",
          "iopub.status.idle": "2025-02-21T00:33:41.606657Z",
          "shell.execute_reply.started": "2025-02-21T00:33:20.469479Z",
          "shell.execute_reply": "2025-02-21T00:33:41.60578Z"
        },
        "id": "nQ-Hbc5cF1Hg"
      },
      "outputs": [],
      "execution_count": null
    },
    {
      "cell_type": "code",
      "source": [
        "# A program to counts the number of elements found in a list\n",
        "x = [33, 4, 55, 6, 3, 78, 9, 6, 5]\n",
        "print(len(x),\"elements found in the list\")"
      ],
      "metadata": {
        "trusted": true,
        "execution": {
          "iopub.status.busy": "2025-02-21T00:38:51.685234Z",
          "iopub.execute_input": "2025-02-21T00:38:51.685582Z",
          "iopub.status.idle": "2025-02-21T00:38:51.691218Z",
          "shell.execute_reply.started": "2025-02-21T00:38:51.685555Z",
          "shell.execute_reply": "2025-02-21T00:38:51.689612Z"
        },
        "id": "rDNFwQU8F1Hh"
      },
      "outputs": [],
      "execution_count": null
    },
    {
      "cell_type": "code",
      "source": [
        "#Type Casting\n",
        "x = 88\n",
        "g = 22\n",
        "print(x + g)\n",
        "type(x)\n",
        "type(g)"
      ],
      "metadata": {
        "trusted": true,
        "execution": {
          "iopub.status.busy": "2025-02-21T00:43:37.503387Z",
          "iopub.execute_input": "2025-02-21T00:43:37.503713Z",
          "iopub.status.idle": "2025-02-21T00:43:37.511926Z",
          "shell.execute_reply.started": "2025-02-21T00:43:37.503672Z",
          "shell.execute_reply": "2025-02-21T00:43:37.510994Z"
        },
        "id": "-_rHBNGTF1Hh"
      },
      "outputs": [],
      "execution_count": null
    },
    {
      "cell_type": "code",
      "source": [
        "x= 88\n",
        "g = 22\n",
        "print(str(x)+str(g))\n",
        "z = str(x)\n",
        "y = str(g)\n",
        "type(z)\n",
        "type(y)\n",
        "type(x)"
      ],
      "metadata": {
        "trusted": true,
        "execution": {
          "iopub.status.busy": "2025-02-21T01:01:01.940274Z",
          "iopub.execute_input": "2025-02-21T01:01:01.940597Z",
          "iopub.status.idle": "2025-02-21T01:01:01.948353Z",
          "shell.execute_reply.started": "2025-02-21T01:01:01.940571Z",
          "shell.execute_reply": "2025-02-21T01:01:01.947153Z"
        },
        "id": "rL6zMzGUF1Hi"
      },
      "outputs": [],
      "execution_count": null
    },
    {
      "cell_type": "code",
      "source": [],
      "metadata": {
        "trusted": true,
        "id": "CNhYUfODF1Hi"
      },
      "outputs": [],
      "execution_count": null
    }
  ]
}